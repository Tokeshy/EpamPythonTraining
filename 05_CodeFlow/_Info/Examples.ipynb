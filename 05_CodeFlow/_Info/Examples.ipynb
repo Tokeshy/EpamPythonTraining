{
 "cells": [
  {
   "cell_type": "markdown",
   "id": "hawaiian-dictionary",
   "metadata": {},
   "source": [
    "## Exception situation examples"
   ]
  },
  {
   "cell_type": "markdown",
   "id": "iraqi-trainer",
   "metadata": {},
   "source": [
    "#### Examples"
   ]
  },
  {
   "cell_type": "code",
   "execution_count": 2,
   "id": "authorized-insulin",
   "metadata": {
    "scrolled": true
   },
   "outputs": [
    {
     "ename": "ZeroDivisionError",
     "evalue": "division by zero",
     "output_type": "error",
     "traceback": [
      "\u001b[0;31m---------------------------------------------------------------------------\u001b[0m",
      "\u001b[0;31mZeroDivisionError\u001b[0m                         Traceback (most recent call last)",
      "\u001b[0;32m/var/folders/_f/7thd2d217yx30_xyzk01bc4r0000gp/T/ipykernel_26920/1455669704.py\u001b[0m in \u001b[0;36m<module>\u001b[0;34m\u001b[0m\n\u001b[0;32m----> 1\u001b[0;31m \u001b[0;36m1\u001b[0m \u001b[0;34m/\u001b[0m \u001b[0;36m0\u001b[0m\u001b[0;34m\u001b[0m\u001b[0;34m\u001b[0m\u001b[0m\n\u001b[0m",
      "\u001b[0;31mZeroDivisionError\u001b[0m: division by zero"
     ]
    }
   ],
   "source": [
    "1 / 0"
   ]
  },
  {
   "cell_type": "code",
   "execution_count": 3,
   "id": "capital-racing",
   "metadata": {
    "scrolled": false
   },
   "outputs": [
    {
     "ename": "AttributeError",
     "evalue": "'str' object has no attribute 'rplace'",
     "output_type": "error",
     "traceback": [
      "\u001b[0;31m---------------------------------------------------------------------------\u001b[0m",
      "\u001b[0;31mAttributeError\u001b[0m                            Traceback (most recent call last)",
      "\u001b[0;32m/var/folders/_f/7thd2d217yx30_xyzk01bc4r0000gp/T/ipykernel_26920/3395247123.py\u001b[0m in \u001b[0;36m<module>\u001b[0;34m\u001b[0m\n\u001b[0;32m----> 1\u001b[0;31m \u001b[0;34m'Some text'\u001b[0m\u001b[0;34m.\u001b[0m\u001b[0mrplace\u001b[0m\u001b[0;34m(\u001b[0m\u001b[0;34m'text'\u001b[0m\u001b[0;34m,\u001b[0m \u001b[0;34m'words'\u001b[0m\u001b[0;34m)\u001b[0m\u001b[0;34m\u001b[0m\u001b[0;34m\u001b[0m\u001b[0m\n\u001b[0m",
      "\u001b[0;31mAttributeError\u001b[0m: 'str' object has no attribute 'rplace'"
     ]
    }
   ],
   "source": [
    "'Some text'.rplace('text', 'words')"
   ]
  },
  {
   "cell_type": "code",
   "execution_count": 4,
   "id": "international-product",
   "metadata": {
    "scrolled": true
   },
   "outputs": [
    {
     "ename": "ValueError",
     "evalue": "invalid literal for int() with base 10: '10abc'",
     "output_type": "error",
     "traceback": [
      "\u001b[0;31m---------------------------------------------------------------------------\u001b[0m",
      "\u001b[0;31mValueError\u001b[0m                                Traceback (most recent call last)",
      "\u001b[0;32m/var/folders/_f/7thd2d217yx30_xyzk01bc4r0000gp/T/ipykernel_26920/1629045950.py\u001b[0m in \u001b[0;36m<module>\u001b[0;34m\u001b[0m\n\u001b[0;32m----> 1\u001b[0;31m \u001b[0mint\u001b[0m\u001b[0;34m(\u001b[0m\u001b[0;34m'10abc'\u001b[0m\u001b[0;34m)\u001b[0m\u001b[0;34m\u001b[0m\u001b[0;34m\u001b[0m\u001b[0m\n\u001b[0m",
      "\u001b[0;31mValueError\u001b[0m: invalid literal for int() with base 10: '10abc'"
     ]
    }
   ],
   "source": [
    "int('10abc')"
   ]
  },
  {
   "cell_type": "markdown",
   "id": "exterior-connection",
   "metadata": {},
   "source": [
    "#### Exception generation"
   ]
  },
  {
   "cell_type": "code",
   "execution_count": 5,
   "id": "outstanding-jenny",
   "metadata": {},
   "outputs": [
    {
     "ename": "RuntimeError",
     "evalue": "No active exception to reraise",
     "output_type": "error",
     "traceback": [
      "\u001b[0;31m---------------------------------------------------------------------------\u001b[0m",
      "\u001b[0;31mRuntimeError\u001b[0m                              Traceback (most recent call last)",
      "\u001b[0;32m/var/folders/_f/7thd2d217yx30_xyzk01bc4r0000gp/T/ipykernel_26920/612284528.py\u001b[0m in \u001b[0;36m<module>\u001b[0;34m\u001b[0m\n\u001b[1;32m      7\u001b[0m     \u001b[0mprint\u001b[0m\u001b[0;34m(\u001b[0m\u001b[0;34mf'Send the file: {file_path}'\u001b[0m\u001b[0;34m)\u001b[0m\u001b[0;34m\u001b[0m\u001b[0;34m\u001b[0m\u001b[0m\n\u001b[1;32m      8\u001b[0m \u001b[0;34m\u001b[0m\u001b[0m\n\u001b[0;32m----> 9\u001b[0;31m \u001b[0msend_file\u001b[0m\u001b[0;34m(\u001b[0m\u001b[0;34m'main.py'\u001b[0m\u001b[0;34m)\u001b[0m\u001b[0;34m\u001b[0m\u001b[0;34m\u001b[0m\u001b[0m\n\u001b[0m",
      "\u001b[0;32m/var/folders/_f/7thd2d217yx30_xyzk01bc4r0000gp/T/ipykernel_26920/612284528.py\u001b[0m in \u001b[0;36msend_file\u001b[0;34m(file_path)\u001b[0m\n\u001b[1;32m      3\u001b[0m \u001b[0;32mdef\u001b[0m \u001b[0msend_file\u001b[0m\u001b[0;34m(\u001b[0m\u001b[0mfile_path\u001b[0m\u001b[0;34m)\u001b[0m\u001b[0;34m:\u001b[0m\u001b[0;34m\u001b[0m\u001b[0;34m\u001b[0m\u001b[0m\n\u001b[1;32m      4\u001b[0m     \u001b[0;32mif\u001b[0m \u001b[0;32mnot\u001b[0m \u001b[0mexists\u001b[0m\u001b[0;34m(\u001b[0m\u001b[0mfile_path\u001b[0m\u001b[0;34m)\u001b[0m\u001b[0;34m:\u001b[0m\u001b[0;34m\u001b[0m\u001b[0;34m\u001b[0m\u001b[0m\n\u001b[0;32m----> 5\u001b[0;31m         \u001b[0;32mraise\u001b[0m\u001b[0;34m\u001b[0m\u001b[0;34m\u001b[0m\u001b[0m\n\u001b[0m\u001b[1;32m      6\u001b[0m \u001b[0;34m\u001b[0m\u001b[0m\n\u001b[1;32m      7\u001b[0m     \u001b[0mprint\u001b[0m\u001b[0;34m(\u001b[0m\u001b[0;34mf'Send the file: {file_path}'\u001b[0m\u001b[0;34m)\u001b[0m\u001b[0;34m\u001b[0m\u001b[0;34m\u001b[0m\u001b[0m\n",
      "\u001b[0;31mRuntimeError\u001b[0m: No active exception to reraise"
     ]
    }
   ],
   "source": [
    "from os.path import exists\n",
    "    \n",
    "def send_file(file_path):\n",
    "    if not exists(file_path):\n",
    "        raise\n",
    "    \n",
    "    print(f'Send the file: {file_path}')\n",
    "\n",
    "send_file('main.py')"
   ]
  },
  {
   "cell_type": "code",
   "execution_count": 6,
   "id": "intimate-blank",
   "metadata": {},
   "outputs": [
    {
     "ename": "ValueError",
     "evalue": "Level value is not valid: 0",
     "output_type": "error",
     "traceback": [
      "\u001b[0;31m---------------------------------------------------------------------------\u001b[0m",
      "\u001b[0;31mValueError\u001b[0m                                Traceback (most recent call last)",
      "\u001b[0;32m/var/folders/_f/7thd2d217yx30_xyzk01bc4r0000gp/T/ipykernel_26920/1635249860.py\u001b[0m in \u001b[0;36m<module>\u001b[0;34m\u001b[0m\n\u001b[1;32m      6\u001b[0m     \u001b[0mlogging\u001b[0m\u001b[0;34m.\u001b[0m\u001b[0mbasicConfig\u001b[0m\u001b[0;34m(\u001b[0m\u001b[0mlevel\u001b[0m\u001b[0;34m=\u001b[0m\u001b[0mverb_level\u001b[0m\u001b[0;34m)\u001b[0m\u001b[0;34m\u001b[0m\u001b[0;34m\u001b[0m\u001b[0m\n\u001b[1;32m      7\u001b[0m \u001b[0;34m\u001b[0m\u001b[0m\n\u001b[0;32m----> 8\u001b[0;31m \u001b[0mconfigure_logging\u001b[0m\u001b[0;34m(\u001b[0m\u001b[0;36m0\u001b[0m\u001b[0;34m)\u001b[0m\u001b[0;34m\u001b[0m\u001b[0;34m\u001b[0m\u001b[0m\n\u001b[0m",
      "\u001b[0;32m/var/folders/_f/7thd2d217yx30_xyzk01bc4r0000gp/T/ipykernel_26920/1635249860.py\u001b[0m in \u001b[0;36mconfigure_logging\u001b[0;34m(verb_level)\u001b[0m\n\u001b[1;32m      3\u001b[0m \u001b[0;32mdef\u001b[0m \u001b[0mconfigure_logging\u001b[0m\u001b[0;34m(\u001b[0m\u001b[0mverb_level\u001b[0m\u001b[0;34m)\u001b[0m\u001b[0;34m:\u001b[0m\u001b[0;34m\u001b[0m\u001b[0;34m\u001b[0m\u001b[0m\n\u001b[1;32m      4\u001b[0m     \u001b[0;32mif\u001b[0m \u001b[0mverb_level\u001b[0m \u001b[0;34m<\u001b[0m \u001b[0;36m1\u001b[0m\u001b[0;34m:\u001b[0m\u001b[0;34m\u001b[0m\u001b[0;34m\u001b[0m\u001b[0m\n\u001b[0;32m----> 5\u001b[0;31m         \u001b[0;32mraise\u001b[0m \u001b[0mValueError\u001b[0m\u001b[0;34m(\u001b[0m\u001b[0;34mf'Level value is not valid: {verb_level}'\u001b[0m\u001b[0;34m)\u001b[0m\u001b[0;34m\u001b[0m\u001b[0;34m\u001b[0m\u001b[0m\n\u001b[0m\u001b[1;32m      6\u001b[0m     \u001b[0mlogging\u001b[0m\u001b[0;34m.\u001b[0m\u001b[0mbasicConfig\u001b[0m\u001b[0;34m(\u001b[0m\u001b[0mlevel\u001b[0m\u001b[0;34m=\u001b[0m\u001b[0mverb_level\u001b[0m\u001b[0;34m)\u001b[0m\u001b[0;34m\u001b[0m\u001b[0;34m\u001b[0m\u001b[0m\n\u001b[1;32m      7\u001b[0m \u001b[0;34m\u001b[0m\u001b[0m\n",
      "\u001b[0;31mValueError\u001b[0m: Level value is not valid: 0"
     ]
    }
   ],
   "source": [
    "import logging\n",
    "\n",
    "def configure_logging(verb_level):\n",
    "    if verb_level < 1:\n",
    "        raise ValueError(f'Level value is not valid: {verb_level}')\n",
    "    logging.basicConfig(level=verb_level)\n",
    "\n",
    "configure_logging(0)"
   ]
  },
  {
   "cell_type": "markdown",
   "id": "solid-canberra",
   "metadata": {},
   "source": [
    "#### Handling exceptions "
   ]
  },
  {
   "cell_type": "code",
   "execution_count": 9,
   "id": "about-eagle",
   "metadata": {},
   "outputs": [
    {
     "name": "stdout",
     "output_type": "stream",
     "text": [
      "ZeroDivisionError\n"
     ]
    }
   ],
   "source": [
    "try:\n",
    "    var = 10/0\n",
    "except ValueError:\n",
    "    print('ValueError')\n",
    "except ZeroDivisionError:\n",
    "     print('ZeroDivisionError')\n",
    "except (AttributeError, ):\n",
    "    print('Expected errors')\n",
    "except Exception:\n",
    "    print('Unexpected errors')\n",
    "else:\n",
    "    print(var, \"Hello\")\n",
    "finally:\n",
    "    var = 1"
   ]
  },
  {
   "cell_type": "code",
   "execution_count": 10,
   "id": "designed-ladder",
   "metadata": {},
   "outputs": [
    {
     "data": {
      "text/plain": [
       "1"
      ]
     },
     "execution_count": 10,
     "metadata": {},
     "output_type": "execute_result"
    }
   ],
   "source": [
    "var"
   ]
  },
  {
   "cell_type": "code",
   "execution_count": 12,
   "id": "worldwide-xerox",
   "metadata": {},
   "outputs": [
    {
     "ename": "SyntaxError",
     "evalue": "unexpected EOF while parsing (2744502156.py, line 2)",
     "output_type": "error",
     "traceback": [
      "\u001b[0;36m  File \u001b[0;32m\"/var/folders/_f/7thd2d217yx30_xyzk01bc4r0000gp/T/ipykernel_26920/2744502156.py\"\u001b[0;36m, line \u001b[0;32m2\u001b[0m\n\u001b[0;31m    var = 1 / 0\u001b[0m\n\u001b[0m               ^\u001b[0m\n\u001b[0;31mSyntaxError\u001b[0m\u001b[0;31m:\u001b[0m unexpected EOF while parsing\n"
     ]
    }
   ],
   "source": [
    "try:\n",
    "    var = 1 / 0\n",
    "finally:  # or except\n",
    "    print('This code will be run')"
   ]
  },
  {
   "cell_type": "markdown",
   "id": "duplicate-magic",
   "metadata": {},
   "source": [
    "#### Exception re-raising"
   ]
  },
  {
   "cell_type": "code",
   "execution_count": 15,
   "id": "medical-threshold",
   "metadata": {},
   "outputs": [
    {
     "name": "stdout",
     "output_type": "stream",
     "text": [
      "Unexpected error: cannot import name 'sum' from 'math' (/Users/Dzmitry_Kolb/.pyenv/versions/3.9.7/lib/python3.9/lib-dynload/math.cpython-39-darwin.so)\n"
     ]
    },
    {
     "ename": "ImportError",
     "evalue": "cannot import name 'sum' from 'math' (/Users/Dzmitry_Kolb/.pyenv/versions/3.9.7/lib/python3.9/lib-dynload/math.cpython-39-darwin.so)",
     "output_type": "error",
     "traceback": [
      "\u001b[0;31m---------------------------------------------------------------------------\u001b[0m",
      "\u001b[0;31mImportError\u001b[0m                               Traceback (most recent call last)",
      "\u001b[0;32m/var/folders/_f/7thd2d217yx30_xyzk01bc4r0000gp/T/ipykernel_26920/3127076514.py\u001b[0m in \u001b[0;36m<module>\u001b[0;34m\u001b[0m\n\u001b[1;32m      2\u001b[0m \u001b[0;34m\u001b[0m\u001b[0m\n\u001b[1;32m      3\u001b[0m \u001b[0;32mtry\u001b[0m\u001b[0;34m:\u001b[0m\u001b[0;34m\u001b[0m\u001b[0;34m\u001b[0m\u001b[0m\n\u001b[0;32m----> 4\u001b[0;31m     \u001b[0;32mfrom\u001b[0m \u001b[0mmath\u001b[0m \u001b[0;32mimport\u001b[0m \u001b[0msum\u001b[0m\u001b[0;34m\u001b[0m\u001b[0;34m\u001b[0m\u001b[0m\n\u001b[0m\u001b[1;32m      5\u001b[0m     \u001b[0;31m# todo something with sum\u001b[0m\u001b[0;34m\u001b[0m\u001b[0;34m\u001b[0m\u001b[0m\n\u001b[1;32m      6\u001b[0m \u001b[0;32mexcept\u001b[0m \u001b[0mImportError\u001b[0m \u001b[0;32mas\u001b[0m \u001b[0merr\u001b[0m\u001b[0;34m:\u001b[0m\u001b[0;34m\u001b[0m\u001b[0;34m\u001b[0m\u001b[0m\n",
      "\u001b[0;31mImportError\u001b[0m: cannot import name 'sum' from 'math' (/Users/Dzmitry_Kolb/.pyenv/versions/3.9.7/lib/python3.9/lib-dynload/math.cpython-39-darwin.so)"
     ]
    }
   ],
   "source": [
    "import sys\n",
    "\n",
    "try:\n",
    "    from math import sum\n",
    "    # todo something with sum\n",
    "except ImportError as err:\n",
    "    print('Unexpected error:', sys.exc_info())\n",
    "    raise\n",
    "except Exception:\n",
    "    print('Exception')\n",
    "\n",
    "    \n",
    "print('Hello!')"
   ]
  },
  {
   "cell_type": "markdown",
   "id": "finished-digit",
   "metadata": {},
   "source": [
    "#### Custom exceptions"
   ]
  },
  {
   "cell_type": "code",
   "execution_count": 16,
   "id": "actual-netscape",
   "metadata": {},
   "outputs": [
    {
     "ename": "IPAddressError",
     "evalue": "IP address is not available 192.168.1.1",
     "output_type": "error",
     "traceback": [
      "\u001b[0;31m---------------------------------------------------------------------------\u001b[0m",
      "\u001b[0;31mIPAddressError\u001b[0m                            Traceback (most recent call last)",
      "\u001b[0;32m/var/folders/_f/7thd2d217yx30_xyzk01bc4r0000gp/T/ipykernel_26920/77872223.py\u001b[0m in \u001b[0;36m<module>\u001b[0;34m\u001b[0m\n\u001b[1;32m     10\u001b[0m         \u001b[0;32mraise\u001b[0m \u001b[0mIPAddressError\u001b[0m\u001b[0;34m(\u001b[0m\u001b[0;34mf'IP address is not available {ip}'\u001b[0m\u001b[0;34m)\u001b[0m\u001b[0;34m\u001b[0m\u001b[0;34m\u001b[0m\u001b[0m\n\u001b[1;32m     11\u001b[0m \u001b[0;34m\u001b[0m\u001b[0m\n\u001b[0;32m---> 12\u001b[0;31m \u001b[0mcheck_ip\u001b[0m\u001b[0;34m(\u001b[0m\u001b[0;34m'192.168.1.1'\u001b[0m\u001b[0;34m)\u001b[0m\u001b[0;34m\u001b[0m\u001b[0;34m\u001b[0m\u001b[0m\n\u001b[0m",
      "\u001b[0;32m/var/folders/_f/7thd2d217yx30_xyzk01bc4r0000gp/T/ipykernel_26920/77872223.py\u001b[0m in \u001b[0;36mcheck_ip\u001b[0;34m(ip)\u001b[0m\n\u001b[1;32m      8\u001b[0m     \u001b[0mavailable_ips\u001b[0m \u001b[0;34m=\u001b[0m \u001b[0;34m[\u001b[0m\u001b[0mstr\u001b[0m\u001b[0;34m(\u001b[0m\u001b[0mip\u001b[0m\u001b[0;34m)\u001b[0m \u001b[0;32mfor\u001b[0m \u001b[0mip\u001b[0m \u001b[0;32min\u001b[0m \u001b[0mipaddress\u001b[0m\u001b[0;34m.\u001b[0m\u001b[0mIPv4Network\u001b[0m\u001b[0;34m(\u001b[0m\u001b[0;34m'192.0.2.0/28'\u001b[0m\u001b[0;34m)\u001b[0m\u001b[0;34m]\u001b[0m\u001b[0;34m\u001b[0m\u001b[0;34m\u001b[0m\u001b[0m\n\u001b[1;32m      9\u001b[0m     \u001b[0;32mif\u001b[0m \u001b[0mip\u001b[0m \u001b[0;32mnot\u001b[0m \u001b[0;32min\u001b[0m \u001b[0mavailable_ips\u001b[0m\u001b[0;34m:\u001b[0m\u001b[0;34m\u001b[0m\u001b[0;34m\u001b[0m\u001b[0m\n\u001b[0;32m---> 10\u001b[0;31m         \u001b[0;32mraise\u001b[0m \u001b[0mIPAddressError\u001b[0m\u001b[0;34m(\u001b[0m\u001b[0;34mf'IP address is not available {ip}'\u001b[0m\u001b[0;34m)\u001b[0m\u001b[0;34m\u001b[0m\u001b[0;34m\u001b[0m\u001b[0m\n\u001b[0m\u001b[1;32m     11\u001b[0m \u001b[0;34m\u001b[0m\u001b[0m\n\u001b[1;32m     12\u001b[0m \u001b[0mcheck_ip\u001b[0m\u001b[0;34m(\u001b[0m\u001b[0;34m'192.168.1.1'\u001b[0m\u001b[0;34m)\u001b[0m\u001b[0;34m\u001b[0m\u001b[0;34m\u001b[0m\u001b[0m\n",
      "\u001b[0;31mIPAddressError\u001b[0m: IP address is not available 192.168.1.1"
     ]
    }
   ],
   "source": [
    "import ipaddress\n",
    "\n",
    "\n",
    "class IPAddressError(Exception):\n",
    "    pass\n",
    "\n",
    "def check_ip(ip):\n",
    "    available_ips = [str(ip) for ip in ipaddress.IPv4Network('192.0.2.0/28')]\n",
    "    if ip not in available_ips:\n",
    "        raise IPAddressError(f'IP address is not available {ip}')\n",
    "\n",
    "check_ip('192.168.1.1')"
   ]
  },
  {
   "cell_type": "markdown",
   "id": "accessible-express",
   "metadata": {},
   "source": [
    "#### Best practices"
   ]
  },
  {
   "cell_type": "code",
   "execution_count": 17,
   "id": "dying-commerce",
   "metadata": {},
   "outputs": [
    {
     "name": "stdout",
     "output_type": "stream",
     "text": [
      "error\n"
     ]
    }
   ],
   "source": [
    "# as exc\n",
    "\n",
    "try:\n",
    "    f = open('myfile.txt')  # exception here?\n",
    "    s = f.readline()        # maybe here?\n",
    "    i = int(s.strip())      # or here?\n",
    "except Exception:\n",
    "    print('error')"
   ]
  },
  {
   "cell_type": "code",
   "execution_count": 18,
   "id": "computational-programming",
   "metadata": {},
   "outputs": [
    {
     "name": "stdout",
     "output_type": "stream",
     "text": [
      "error: [Errno 2] No such file or directory: 'myfile.txt'\n"
     ]
    }
   ],
   "source": [
    "try:\n",
    "    f = open('myfile.txt')\n",
    "    s = f.readline()\n",
    "    i = int(s.strip())\n",
    "except Exception as exc:\n",
    "    print(f'error: {exc}')"
   ]
  },
  {
   "cell_type": "code",
   "execution_count": 86,
   "id": "helpful-asthma",
   "metadata": {},
   "outputs": [
    {
     "ename": "CustomError",
     "evalue": "",
     "output_type": "error",
     "traceback": [
      "\u001b[0;31m---------------------------------------------------------------------------\u001b[0m",
      "\u001b[0;31mFileNotFoundError\u001b[0m                         Traceback (most recent call last)",
      "\u001b[0;32m/var/folders/_f/7thd2d217yx30_xyzk01bc4r0000gp/T/ipykernel_26920/2292210163.py\u001b[0m in \u001b[0;36m<module>\u001b[0;34m\u001b[0m\n\u001b[1;32m      6\u001b[0m \u001b[0;32mtry\u001b[0m\u001b[0;34m:\u001b[0m\u001b[0;34m\u001b[0m\u001b[0;34m\u001b[0m\u001b[0m\n\u001b[0;32m----> 7\u001b[0;31m     \u001b[0mf\u001b[0m \u001b[0;34m=\u001b[0m \u001b[0mopen\u001b[0m\u001b[0;34m(\u001b[0m\u001b[0;34m'myfile.txt'\u001b[0m\u001b[0;34m)\u001b[0m\u001b[0;34m\u001b[0m\u001b[0;34m\u001b[0m\u001b[0m\n\u001b[0m\u001b[1;32m      8\u001b[0m     \u001b[0ms\u001b[0m \u001b[0;34m=\u001b[0m \u001b[0mf\u001b[0m\u001b[0;34m.\u001b[0m\u001b[0mreadline\u001b[0m\u001b[0;34m(\u001b[0m\u001b[0;34m)\u001b[0m\u001b[0;34m\u001b[0m\u001b[0;34m\u001b[0m\u001b[0m\n",
      "\u001b[0;31mFileNotFoundError\u001b[0m: [Errno 2] No such file or directory: 'myfile.txt'",
      "\nThe above exception was the direct cause of the following exception:\n",
      "\u001b[0;31mCustomError\u001b[0m                               Traceback (most recent call last)",
      "\u001b[0;32m/var/folders/_f/7thd2d217yx30_xyzk01bc4r0000gp/T/ipykernel_26920/2292210163.py\u001b[0m in \u001b[0;36m<module>\u001b[0;34m\u001b[0m\n\u001b[1;32m      9\u001b[0m     \u001b[0mi\u001b[0m \u001b[0;34m=\u001b[0m \u001b[0mint\u001b[0m\u001b[0;34m(\u001b[0m\u001b[0ms\u001b[0m\u001b[0;34m.\u001b[0m\u001b[0mstrip\u001b[0m\u001b[0;34m(\u001b[0m\u001b[0;34m)\u001b[0m\u001b[0;34m)\u001b[0m\u001b[0;34m\u001b[0m\u001b[0;34m\u001b[0m\u001b[0m\n\u001b[1;32m     10\u001b[0m \u001b[0;32mexcept\u001b[0m \u001b[0mException\u001b[0m \u001b[0;32mas\u001b[0m \u001b[0mexc\u001b[0m\u001b[0;34m:\u001b[0m\u001b[0;34m\u001b[0m\u001b[0;34m\u001b[0m\u001b[0m\n\u001b[0;32m---> 11\u001b[0;31m     \u001b[0;32mraise\u001b[0m \u001b[0mCustomError\u001b[0m \u001b[0;32mfrom\u001b[0m \u001b[0mexc\u001b[0m\u001b[0;34m\u001b[0m\u001b[0;34m\u001b[0m\u001b[0m\n\u001b[0m",
      "\u001b[0;31mCustomError\u001b[0m: "
     ]
    }
   ],
   "source": [
    "# raise ... from ...\n",
    "\n",
    "class CustomError(Exception):\n",
    "    pass\n",
    "\n",
    "try:\n",
    "    f = open('myfile.txt')\n",
    "    s = f.readline()\n",
    "    i = int(s.strip())\n",
    "except Exception as exc:\n",
    "    raise CustomError from exc"
   ]
  },
  {
   "cell_type": "code",
   "execution_count": 27,
   "id": "white-renaissance",
   "metadata": {},
   "outputs": [
    {
     "name": "stdout",
     "output_type": "stream",
     "text": [
      "Set data as None\n"
     ]
    }
   ],
   "source": [
    "# specify exception type\n",
    "\n",
    "try:\n",
    "    f = open('myfile.txt')\n",
    "    data = int(f.readline())\n",
    "except FileNotFoundError:\n",
    "    print('Set data as None')\n",
    "    data = None    "
   ]
  },
  {
   "cell_type": "code",
   "execution_count": 28,
   "id": "aerial-bangkok",
   "metadata": {},
   "outputs": [
    {
     "name": "stdout",
     "output_type": "stream",
     "text": [
      "Set data as None\n"
     ]
    }
   ],
   "source": [
    "try:\n",
    "    f = open('examples.ipynb')\n",
    "    data = int(f.readline())\n",
    "except Exception:\n",
    "    print('Set data as None')\n",
    "    data = None   "
   ]
  },
  {
   "cell_type": "code",
   "execution_count": 29,
   "id": "behind-present",
   "metadata": {},
   "outputs": [
    {
     "name": "stdout",
     "output_type": "stream",
     "text": [
      "HELLO WORLD\n",
      "HELLO WORLD\n",
      "HELLO WORLD\n",
      "HELLO WORLD\n",
      "HELLO WORLD\n",
      "HELLO WORLD\n",
      "HELLO WORLD\n",
      "HELLO WORLD\n",
      "HELLO WORLD\n",
      "HELLO WORLD\n",
      "HELLO WORLD\n",
      "HELLO WORLD\n",
      "HELLO WORLD\n",
      "HELLO WORLD\n",
      "HELLO WORLD\n"
     ]
    },
    {
     "ename": "KeyboardInterrupt",
     "evalue": "",
     "output_type": "error",
     "traceback": [
      "\u001b[0;31m---------------------------------------------------------------------------\u001b[0m",
      "\u001b[0;31mKeyboardInterrupt\u001b[0m                         Traceback (most recent call last)",
      "\u001b[0;32m/var/folders/_f/7thd2d217yx30_xyzk01bc4r0000gp/T/ipykernel_26920/228143712.py\u001b[0m in \u001b[0;36m<module>\u001b[0;34m\u001b[0m\n\u001b[1;32m      4\u001b[0m     \u001b[0;32mtry\u001b[0m\u001b[0;34m:\u001b[0m\u001b[0;34m\u001b[0m\u001b[0;34m\u001b[0m\u001b[0m\n\u001b[1;32m      5\u001b[0m         \u001b[0mprint\u001b[0m\u001b[0;34m(\u001b[0m\u001b[0;34m'HELLO WORLD'\u001b[0m\u001b[0;34m)\u001b[0m\u001b[0;34m\u001b[0m\u001b[0;34m\u001b[0m\u001b[0m\n\u001b[0;32m----> 6\u001b[0;31m         \u001b[0msleep\u001b[0m\u001b[0;34m(\u001b[0m\u001b[0;36m1\u001b[0m\u001b[0;34m)\u001b[0m\u001b[0;34m\u001b[0m\u001b[0;34m\u001b[0m\u001b[0m\n\u001b[0m\u001b[1;32m      7\u001b[0m     \u001b[0;32mexcept\u001b[0m \u001b[0mException\u001b[0m\u001b[0;34m:\u001b[0m\u001b[0;34m\u001b[0m\u001b[0;34m\u001b[0m\u001b[0m\n\u001b[1;32m      8\u001b[0m         \u001b[0;32mpass\u001b[0m\u001b[0;34m\u001b[0m\u001b[0;34m\u001b[0m\u001b[0m\n",
      "\u001b[0;31mKeyboardInterrupt\u001b[0m: "
     ]
    }
   ],
   "source": [
    "from time import sleep\n",
    "\n",
    "while True:\n",
    "    try:\n",
    "        print('HELLO WORLD')\n",
    "        sleep(1)\n",
    "    except Exception:\n",
    "        pass"
   ]
  },
  {
   "cell_type": "code",
   "execution_count": null,
   "id": "disciplinary-lover",
   "metadata": {},
   "outputs": [],
   "source": [
    "from time import sleep\n",
    "\n",
    "while True:\n",
    "    try:\n",
    "        print('HELLO WORLD')\n",
    "        sleep(1)\n",
    "    except:\n",
    "        pass"
   ]
  },
  {
   "cell_type": "code",
   "execution_count": 30,
   "id": "unlikely-display",
   "metadata": {},
   "outputs": [
    {
     "name": "stdout",
     "output_type": "stream",
     "text": [
      "Connect to database\n",
      "Handle data: 10\n",
      "Close connection\n"
     ]
    }
   ],
   "source": [
    "# use ... else ... finally\n",
    "\n",
    "class DBProvider:\n",
    "    def connect(self):\n",
    "        print('Connect to database')\n",
    "    \n",
    "    def fetch(self):\n",
    "        return 10\n",
    "    \n",
    "    def close(self):\n",
    "        print('Close connection')\n",
    "\n",
    "db = DBProvider()\n",
    "db.connect()\n",
    "try:\n",
    "    data = db.fetch()\n",
    "except Exception as exc:\n",
    "    print('Data was not fetched:', exc)\n",
    "    raise\n",
    "else:\n",
    "    print('Handle data:', data)\n",
    "finally:\n",
    "    db.close()"
   ]
  },
  {
   "cell_type": "markdown",
   "id": "exposed-peninsula",
   "metadata": {},
   "source": [
    "## Iterable & Iterators"
   ]
  },
  {
   "cell_type": "code",
   "execution_count": 31,
   "id": "developed-somerset",
   "metadata": {},
   "outputs": [],
   "source": [
    "from collections.abc import Iterable\n",
    "\n",
    "my_list = [1, 2, 3]"
   ]
  },
  {
   "cell_type": "code",
   "execution_count": 32,
   "id": "psychological-annex",
   "metadata": {},
   "outputs": [
    {
     "data": {
      "text/plain": [
       "True"
      ]
     },
     "execution_count": 32,
     "metadata": {},
     "output_type": "execute_result"
    }
   ],
   "source": [
    "isinstance(my_list, Iterable)"
   ]
  },
  {
   "cell_type": "code",
   "execution_count": 33,
   "id": "ordinary-advocacy",
   "metadata": {},
   "outputs": [
    {
     "name": "stdout",
     "output_type": "stream",
     "text": [
      "1\n",
      "2\n",
      "3\n"
     ]
    }
   ],
   "source": [
    "for i in my_list:\n",
    "    print(i)"
   ]
  },
  {
   "cell_type": "markdown",
   "id": "challenging-romania",
   "metadata": {},
   "source": [
    "#### `__iter__`"
   ]
  },
  {
   "cell_type": "code",
   "execution_count": null,
   "id": "expected-northeast",
   "metadata": {},
   "outputs": [],
   "source": [
    "class MyIterable:\n",
    "    def __iter__(self):\n",
    "        return # ITERATOR"
   ]
  },
  {
   "cell_type": "code",
   "execution_count": 34,
   "id": "heated-adobe",
   "metadata": {},
   "outputs": [
    {
     "name": "stdout",
     "output_type": "stream",
     "text": [
      "True\n"
     ]
    }
   ],
   "source": [
    "from collections.abc import Iterator\n",
    "\n",
    "iterator_object = iter([1, 2, 3])\n",
    "print(isinstance(iterator_object, Iterator))"
   ]
  },
  {
   "cell_type": "code",
   "execution_count": 35,
   "id": "different-auditor",
   "metadata": {},
   "outputs": [],
   "source": [
    "class MyIterable:\n",
    "    def __iter__(self):\n",
    "        print('I am here -- iter')\n",
    "        return iter([1, 2, 3])"
   ]
  },
  {
   "cell_type": "code",
   "execution_count": 36,
   "id": "answering-audio",
   "metadata": {},
   "outputs": [
    {
     "name": "stdout",
     "output_type": "stream",
     "text": [
      "I am here -- iter\n",
      "1\n",
      "2\n",
      "3\n"
     ]
    }
   ],
   "source": [
    "for i in MyIterable():\n",
    "    print(i)"
   ]
  },
  {
   "cell_type": "code",
   "execution_count": 37,
   "id": "collective-facial",
   "metadata": {},
   "outputs": [
    {
     "name": "stdout",
     "output_type": "stream",
     "text": [
      "I am here -- iter\n"
     ]
    },
    {
     "data": {
      "text/plain": [
       "<list_iterator at 0x111a10040>"
      ]
     },
     "execution_count": 37,
     "metadata": {},
     "output_type": "execute_result"
    }
   ],
   "source": [
    "iter(MyIterable())"
   ]
  },
  {
   "cell_type": "markdown",
   "id": "everyday-banana",
   "metadata": {},
   "source": [
    "#### Iterator"
   ]
  },
  {
   "cell_type": "code",
   "execution_count": 38,
   "id": "coordinated-sacramento",
   "metadata": {},
   "outputs": [],
   "source": [
    "class MyIterator:\n",
    "    def __init__(self):\n",
    "        self.num = 0\n",
    "    \n",
    "    def __iter__(self):\n",
    "        return self\n",
    "    \n",
    "    def __next__(self):\n",
    "        print('I am here -- next')\n",
    "        res = self.num ** 2\n",
    "        self.num += 1\n",
    "        return res\n",
    "\n",
    "class MyIterable:\n",
    "    def __iter__(self):\n",
    "        print('I am here -- iter', self.__class__)\n",
    "        return MyIterator()"
   ]
  },
  {
   "cell_type": "code",
   "execution_count": 39,
   "id": "pregnant-convertible",
   "metadata": {},
   "outputs": [
    {
     "name": "stdout",
     "output_type": "stream",
     "text": [
      "I am here -- iter <class '__main__.MyIterable'>\n",
      "I am here -- next\n",
      "0\n",
      "I am here -- next\n",
      "1\n",
      "I am here -- next\n",
      "4\n",
      "I am here -- next\n",
      "9\n",
      "I am here -- next\n",
      "16\n",
      "I am here -- next\n",
      "25\n",
      "I am here -- next\n",
      "36\n",
      "I am here -- next\n",
      "49\n",
      "I am here -- next\n",
      "64\n",
      "I am here -- next\n",
      "81\n",
      "I am here -- next\n",
      "100\n",
      "I am here -- next\n",
      "121\n",
      "I am here -- next\n",
      "144\n"
     ]
    },
    {
     "ename": "KeyboardInterrupt",
     "evalue": "",
     "output_type": "error",
     "traceback": [
      "\u001b[0;31m---------------------------------------------------------------------------\u001b[0m",
      "\u001b[0;31mKeyboardInterrupt\u001b[0m                         Traceback (most recent call last)",
      "\u001b[0;32m/var/folders/_f/7thd2d217yx30_xyzk01bc4r0000gp/T/ipykernel_26920/4242476235.py\u001b[0m in \u001b[0;36m<module>\u001b[0;34m\u001b[0m\n\u001b[1;32m      3\u001b[0m \u001b[0;32mfor\u001b[0m \u001b[0mi\u001b[0m \u001b[0;32min\u001b[0m \u001b[0mMyIterable\u001b[0m\u001b[0;34m(\u001b[0m\u001b[0;34m)\u001b[0m\u001b[0;34m:\u001b[0m\u001b[0;34m\u001b[0m\u001b[0;34m\u001b[0m\u001b[0m\n\u001b[1;32m      4\u001b[0m     \u001b[0mprint\u001b[0m\u001b[0;34m(\u001b[0m\u001b[0mi\u001b[0m\u001b[0;34m)\u001b[0m\u001b[0;34m\u001b[0m\u001b[0;34m\u001b[0m\u001b[0m\n\u001b[0;32m----> 5\u001b[0;31m     \u001b[0msleep\u001b[0m\u001b[0;34m(\u001b[0m\u001b[0;36m1\u001b[0m\u001b[0;34m)\u001b[0m\u001b[0;34m\u001b[0m\u001b[0;34m\u001b[0m\u001b[0m\n\u001b[0m",
      "\u001b[0;31mKeyboardInterrupt\u001b[0m: "
     ]
    }
   ],
   "source": [
    "from time import sleep\n",
    "\n",
    "for i in MyIterable():\n",
    "    print(i)\n",
    "    sleep(1)"
   ]
  },
  {
   "cell_type": "markdown",
   "id": "tamil-appliance",
   "metadata": {},
   "source": [
    "#### How to stop?"
   ]
  },
  {
   "cell_type": "code",
   "execution_count": 51,
   "id": "social-ocean",
   "metadata": {},
   "outputs": [
    {
     "ename": "StopIteration",
     "evalue": "",
     "output_type": "error",
     "traceback": [
      "\u001b[0;31m---------------------------------------------------------------------------\u001b[0m",
      "\u001b[0;31mStopIteration\u001b[0m                             Traceback (most recent call last)",
      "\u001b[0;32m/var/folders/_f/7thd2d217yx30_xyzk01bc4r0000gp/T/ipykernel_26920/1956731860.py\u001b[0m in \u001b[0;36m<module>\u001b[0;34m\u001b[0m\n\u001b[1;32m     25\u001b[0m \u001b[0mnext\u001b[0m\u001b[0;34m(\u001b[0m\u001b[0mit\u001b[0m\u001b[0;34m)\u001b[0m\u001b[0;34m\u001b[0m\u001b[0;34m\u001b[0m\u001b[0m\n\u001b[1;32m     26\u001b[0m \u001b[0mnext\u001b[0m\u001b[0;34m(\u001b[0m\u001b[0mit\u001b[0m\u001b[0;34m)\u001b[0m\u001b[0;34m\u001b[0m\u001b[0;34m\u001b[0m\u001b[0m\n\u001b[0;32m---> 27\u001b[0;31m \u001b[0mnext\u001b[0m\u001b[0;34m(\u001b[0m\u001b[0mit\u001b[0m\u001b[0;34m)\u001b[0m\u001b[0;34m\u001b[0m\u001b[0;34m\u001b[0m\u001b[0m\n\u001b[0m\u001b[1;32m     28\u001b[0m \u001b[0mnext\u001b[0m\u001b[0;34m(\u001b[0m\u001b[0mit\u001b[0m\u001b[0;34m)\u001b[0m\u001b[0;34m\u001b[0m\u001b[0;34m\u001b[0m\u001b[0m\n\u001b[1;32m     29\u001b[0m \u001b[0mnext\u001b[0m\u001b[0;34m(\u001b[0m\u001b[0mit\u001b[0m\u001b[0;34m)\u001b[0m\u001b[0;34m\u001b[0m\u001b[0;34m\u001b[0m\u001b[0m\n",
      "\u001b[0;32m/var/folders/_f/7thd2d217yx30_xyzk01bc4r0000gp/T/ipykernel_26920/1956731860.py\u001b[0m in \u001b[0;36m__next__\u001b[0;34m(self)\u001b[0m\n\u001b[1;32m      9\u001b[0m         \u001b[0mres\u001b[0m \u001b[0;34m=\u001b[0m \u001b[0mself\u001b[0m\u001b[0;34m.\u001b[0m\u001b[0mnum\u001b[0m \u001b[0;34m**\u001b[0m \u001b[0;36m2\u001b[0m\u001b[0;34m\u001b[0m\u001b[0;34m\u001b[0m\u001b[0m\n\u001b[1;32m     10\u001b[0m         \u001b[0;32mif\u001b[0m \u001b[0mres\u001b[0m \u001b[0;34m>\u001b[0m \u001b[0;36m50\u001b[0m\u001b[0;34m:\u001b[0m\u001b[0;34m\u001b[0m\u001b[0;34m\u001b[0m\u001b[0m\n\u001b[0;32m---> 11\u001b[0;31m             \u001b[0;32mraise\u001b[0m \u001b[0mStopIteration\u001b[0m\u001b[0;34m\u001b[0m\u001b[0;34m\u001b[0m\u001b[0m\n\u001b[0m\u001b[1;32m     12\u001b[0m         \u001b[0mself\u001b[0m\u001b[0;34m.\u001b[0m\u001b[0mnum\u001b[0m \u001b[0;34m+=\u001b[0m \u001b[0;36m1\u001b[0m\u001b[0;34m\u001b[0m\u001b[0;34m\u001b[0m\u001b[0m\n\u001b[1;32m     13\u001b[0m         \u001b[0;32mreturn\u001b[0m \u001b[0mres\u001b[0m\u001b[0;34m\u001b[0m\u001b[0;34m\u001b[0m\u001b[0m\n",
      "\u001b[0;31mStopIteration\u001b[0m: "
     ]
    }
   ],
   "source": [
    "class MyIterator:\n",
    "    def __init__(self):\n",
    "        self.num = 0\n",
    "    \n",
    "    def __iter__(self):\n",
    "        return self\n",
    "    \n",
    "    def __next__(self):\n",
    "        res = self.num ** 2\n",
    "        if res > 50:\n",
    "            raise StopIteration\n",
    "        self.num += 1\n",
    "        return res\n",
    "\n",
    "class MyIterable:\n",
    "    def __iter__(self):\n",
    "        return MyIterator()\n",
    "it = MyIterator()\n",
    "next(it)\n",
    "next(it)\n",
    "next(it)\n",
    "next(it)\n",
    "next(it)\n",
    "next(it)\n",
    "next(it)\n",
    "next(it)\n",
    "next(it)\n",
    "next(it)\n",
    "next(it)\n",
    "next(it)"
   ]
  },
  {
   "cell_type": "markdown",
   "id": "american-istanbul",
   "metadata": {},
   "source": [
    "#### Is iterator an iterable object?"
   ]
  },
  {
   "cell_type": "code",
   "execution_count": 44,
   "id": "rubber-response",
   "metadata": {},
   "outputs": [
    {
     "name": "stdout",
     "output_type": "stream",
     "text": [
      "True\n",
      "True\n"
     ]
    }
   ],
   "source": [
    "from collections.abc import Iterator, Iterable\n",
    "\n",
    "print(isinstance(MyIterator(), Iterator))\n",
    "print(isinstance(MyIterator(), Iterable))"
   ]
  },
  {
   "cell_type": "markdown",
   "id": "super-password",
   "metadata": {},
   "source": [
    "#### Do we need an iterator?"
   ]
  },
  {
   "cell_type": "code",
   "execution_count": 45,
   "id": "removable-omaha",
   "metadata": {},
   "outputs": [
    {
     "name": "stdout",
     "output_type": "stream",
     "text": [
      "I am here -- iter <class '__main__.MyIterable'>\n",
      "I am here -- next\n",
      "0\n",
      "I am here -- next\n",
      "1\n",
      "I am here -- next\n",
      "4\n",
      "I am here -- next\n",
      "9\n",
      "I am here -- next\n",
      "16\n",
      "I am here -- next\n",
      "25\n",
      "I am here -- next\n",
      "36\n",
      "I am here -- next\n",
      "49\n",
      "I am here -- next\n"
     ]
    }
   ],
   "source": [
    "class MyIterator:\n",
    "    def __init__(self):\n",
    "        self.num = 0\n",
    "     \n",
    "    def __next__(self):\n",
    "        print('I am here -- next')\n",
    "        res = self.num ** 2\n",
    "        if res > 50:\n",
    "            raise StopIteration\n",
    "        self.num += 1\n",
    "        return res\n",
    "\n",
    "class MyIterable:\n",
    "    def __iter__(self):\n",
    "        print('I am here -- iter', self.__class__)\n",
    "        return MyIterator()\n",
    "\n",
    "for i in MyIterable():\n",
    "    print(i)"
   ]
  },
  {
   "cell_type": "code",
   "execution_count": 46,
   "id": "synthetic-moore",
   "metadata": {},
   "outputs": [
    {
     "name": "stdout",
     "output_type": "stream",
     "text": [
      "False\n",
      "False\n"
     ]
    }
   ],
   "source": [
    "print(isinstance(MyIterator(), Iterator))\n",
    "print(isinstance(MyIterator(), Iterable))"
   ]
  },
  {
   "cell_type": "markdown",
   "id": "seeing-characteristic",
   "metadata": {},
   "source": [
    "## Generators"
   ]
  },
  {
   "cell_type": "markdown",
   "id": "decimal-sitting",
   "metadata": {},
   "source": [
    "#### Examples"
   ]
  },
  {
   "cell_type": "code",
   "execution_count": 52,
   "id": "apparent-freight",
   "metadata": {},
   "outputs": [],
   "source": [
    "def generator(i):\n",
    "    print(\"Start gen\")\n",
    "    for j in range(i):\n",
    "        yield j ** 2\n",
    "    \n",
    "    return"
   ]
  },
  {
   "cell_type": "code",
   "execution_count": 53,
   "id": "subject-campus",
   "metadata": {},
   "outputs": [
    {
     "data": {
      "text/plain": [
       "<generator object generator at 0x111a5b660>"
      ]
     },
     "execution_count": 53,
     "metadata": {},
     "output_type": "execute_result"
    }
   ],
   "source": [
    "generator(5)"
   ]
  },
  {
   "cell_type": "code",
   "execution_count": 54,
   "id": "catholic-comment",
   "metadata": {},
   "outputs": [
    {
     "name": "stdout",
     "output_type": "stream",
     "text": [
      "Start gen\n",
      "0\n",
      "I am here\n",
      "1\n",
      "I am here\n",
      "4\n",
      "I am here\n",
      "9\n",
      "I am here\n",
      "16\n",
      "I am here\n"
     ]
    }
   ],
   "source": [
    "for i in generator(5):\n",
    "    print(i)\n",
    "    print(\"I am here\")"
   ]
  },
  {
   "cell_type": "markdown",
   "id": "subject-ministry",
   "metadata": {},
   "source": [
    "#### next()"
   ]
  },
  {
   "cell_type": "code",
   "execution_count": 55,
   "id": "coastal-proof",
   "metadata": {},
   "outputs": [
    {
     "name": "stdout",
     "output_type": "stream",
     "text": [
      "['__class__', '__del__', '__delattr__', '__dir__', '__doc__', '__eq__', '__format__', '__ge__', '__getattribute__', '__gt__', '__hash__', '__init__', '__init_subclass__', '__iter__', '__le__', '__lt__', '__name__', '__ne__', '__new__', '__next__', '__qualname__', '__reduce__', '__reduce_ex__', '__repr__', '__setattr__', '__sizeof__', '__str__', '__subclasshook__', 'close', 'gi_code', 'gi_frame', 'gi_running', 'gi_yieldfrom', 'send', 'throw']\n"
     ]
    }
   ],
   "source": [
    "gen = generator(3)\n",
    "print(dir(gen))"
   ]
  },
  {
   "cell_type": "code",
   "execution_count": 61,
   "id": "changed-artwork",
   "metadata": {},
   "outputs": [
    {
     "ename": "StopIteration",
     "evalue": "",
     "output_type": "error",
     "traceback": [
      "\u001b[0;31m---------------------------------------------------------------------------\u001b[0m",
      "\u001b[0;31mStopIteration\u001b[0m                             Traceback (most recent call last)",
      "\u001b[0;32m/var/folders/_f/7thd2d217yx30_xyzk01bc4r0000gp/T/ipykernel_26920/3176703037.py\u001b[0m in \u001b[0;36m<module>\u001b[0;34m\u001b[0m\n\u001b[1;32m      1\u001b[0m \u001b[0;31m# call 4 times\u001b[0m\u001b[0;34m\u001b[0m\u001b[0;34m\u001b[0m\u001b[0m\n\u001b[0;32m----> 2\u001b[0;31m \u001b[0mnext\u001b[0m\u001b[0;34m(\u001b[0m\u001b[0mgen\u001b[0m\u001b[0;34m)\u001b[0m\u001b[0;34m\u001b[0m\u001b[0;34m\u001b[0m\u001b[0m\n\u001b[0m",
      "\u001b[0;31mStopIteration\u001b[0m: "
     ]
    }
   ],
   "source": [
    "# call 4 times\n",
    "next(gen)"
   ]
  },
  {
   "cell_type": "code",
   "execution_count": 62,
   "id": "durable-profession",
   "metadata": {},
   "outputs": [],
   "source": [
    "# stop it\n",
    "def generator(i):\n",
    "    res = 0\n",
    "    while True:\n",
    "        if res ** 2 > i:\n",
    "            return\n",
    "        yield res ** 2\n",
    "        res += 1\n",
    "        "
   ]
  },
  {
   "cell_type": "code",
   "execution_count": 63,
   "id": "intimate-channels",
   "metadata": {},
   "outputs": [],
   "source": [
    "gen = generator(8)"
   ]
  },
  {
   "cell_type": "code",
   "execution_count": 67,
   "id": "removable-threat",
   "metadata": {},
   "outputs": [
    {
     "ename": "StopIteration",
     "evalue": "",
     "output_type": "error",
     "traceback": [
      "\u001b[0;31m---------------------------------------------------------------------------\u001b[0m",
      "\u001b[0;31mStopIteration\u001b[0m                             Traceback (most recent call last)",
      "\u001b[0;32m/var/folders/_f/7thd2d217yx30_xyzk01bc4r0000gp/T/ipykernel_26920/3176703037.py\u001b[0m in \u001b[0;36m<module>\u001b[0;34m\u001b[0m\n\u001b[1;32m      1\u001b[0m \u001b[0;31m# call 4 times\u001b[0m\u001b[0;34m\u001b[0m\u001b[0;34m\u001b[0m\u001b[0m\n\u001b[0;32m----> 2\u001b[0;31m \u001b[0mnext\u001b[0m\u001b[0;34m(\u001b[0m\u001b[0mgen\u001b[0m\u001b[0;34m)\u001b[0m\u001b[0;34m\u001b[0m\u001b[0;34m\u001b[0m\u001b[0m\n\u001b[0m",
      "\u001b[0;31mStopIteration\u001b[0m: "
     ]
    }
   ],
   "source": [
    "# call 4 times\n",
    "next(gen)"
   ]
  },
  {
   "cell_type": "markdown",
   "id": "exterior-safety",
   "metadata": {},
   "source": [
    "#### Iterable via generator"
   ]
  },
  {
   "cell_type": "code",
   "execution_count": 68,
   "id": "psychological-accessory",
   "metadata": {},
   "outputs": [
    {
     "name": "stdout",
     "output_type": "stream",
     "text": [
      "0\n",
      "1\n",
      "4\n",
      "9\n",
      "16\n",
      "25\n",
      "36\n",
      "49\n",
      "64\n",
      "81\n"
     ]
    }
   ],
   "source": [
    "class MyIterable:\n",
    "    def __iter__(self):\n",
    "        for i in range(10):  # generator has __next__ method\n",
    "            yield i ** 2\n",
    "\n",
    "for i in MyIterable():\n",
    "    print(i)"
   ]
  },
  {
   "cell_type": "markdown",
   "id": "sustainable-notebook",
   "metadata": {},
   "source": [
    "#### Is generator an iterator object?"
   ]
  },
  {
   "cell_type": "code",
   "execution_count": 69,
   "id": "executed-vampire",
   "metadata": {},
   "outputs": [
    {
     "name": "stdout",
     "output_type": "stream",
     "text": [
      "True\n"
     ]
    }
   ],
   "source": [
    "from collections.abc import Iterator\n",
    "\n",
    "print(isinstance(generator(1), Iterator))  # True or False?"
   ]
  },
  {
   "cell_type": "markdown",
   "id": "appreciated-script",
   "metadata": {},
   "source": [
    "#### Inline generator"
   ]
  },
  {
   "cell_type": "code",
   "execution_count": 73,
   "id": "dirty-policy",
   "metadata": {},
   "outputs": [
    {
     "name": "stdout",
     "output_type": "stream",
     "text": [
      "<class 'generator'>\n"
     ]
    },
    {
     "data": {
      "text/plain": [
       "[0, 1, 2, 3, 4, 5, 6, 7, 8, 9]"
      ]
     },
     "execution_count": 73,
     "metadata": {},
     "output_type": "execute_result"
    }
   ],
   "source": [
    "gen = (num ** 2 for num in range(10))\n",
    "\n",
    "print(type(gen))\n",
    "list(range(10))"
   ]
  },
  {
   "cell_type": "markdown",
   "id": "environmental-johnson",
   "metadata": {},
   "source": [
    "## Context managers"
   ]
  },
  {
   "cell_type": "markdown",
   "id": "fresh-recipe",
   "metadata": {},
   "source": [
    "####  Context manager as a class"
   ]
  },
  {
   "cell_type": "code",
   "execution_count": 74,
   "id": "acting-tennis",
   "metadata": {},
   "outputs": [],
   "source": [
    "class Resource:\n",
    "\n",
    "    def __enter__(self):  # defines a runtime context\n",
    "        print('Resource.__enter__()')\n",
    "        return [1, 2, 3]\n",
    "\n",
    "    def __exit__(self, exception, value, trace):  # exits from the context and handles exceptions\n",
    "        \"\"\"\n",
    "        :param exception: Exception type or None.\n",
    "        :param value: Exception object or None.\n",
    "        :param trace: Traceback object or None.\n",
    "        \"\"\"\n",
    "        print(f'Resource.__exit__{(exception, value, trace)}')"
   ]
  },
  {
   "cell_type": "code",
   "execution_count": 75,
   "id": "intellectual-guyana",
   "metadata": {},
   "outputs": [
    {
     "name": "stdout",
     "output_type": "stream",
     "text": [
      "Resource.__enter__()\n",
      "Inside the context resource = [1, 2, 3]\n",
      "Resource.__exit__(<class 'Exception'>, Exception('Error'), <traceback object at 0x11192d980>)\n"
     ]
    },
    {
     "ename": "Exception",
     "evalue": "Error",
     "output_type": "error",
     "traceback": [
      "\u001b[0;31m---------------------------------------------------------------------------\u001b[0m",
      "\u001b[0;31mException\u001b[0m                                 Traceback (most recent call last)",
      "\u001b[0;32m/var/folders/_f/7thd2d217yx30_xyzk01bc4r0000gp/T/ipykernel_26920/3511734718.py\u001b[0m in \u001b[0;36m<module>\u001b[0;34m\u001b[0m\n\u001b[1;32m      1\u001b[0m \u001b[0;32mwith\u001b[0m \u001b[0mResource\u001b[0m\u001b[0;34m(\u001b[0m\u001b[0;34m)\u001b[0m \u001b[0;32mas\u001b[0m \u001b[0mrs\u001b[0m\u001b[0;34m:\u001b[0m\u001b[0;34m\u001b[0m\u001b[0;34m\u001b[0m\u001b[0m\n\u001b[1;32m      2\u001b[0m     \u001b[0mprint\u001b[0m\u001b[0;34m(\u001b[0m\u001b[0;34mf'Inside the context resource = {rs}'\u001b[0m\u001b[0;34m)\u001b[0m\u001b[0;34m\u001b[0m\u001b[0;34m\u001b[0m\u001b[0m\n\u001b[0;32m----> 3\u001b[0;31m     \u001b[0;32mraise\u001b[0m \u001b[0mException\u001b[0m\u001b[0;34m(\u001b[0m\u001b[0;34m'Error'\u001b[0m\u001b[0;34m)\u001b[0m\u001b[0;34m\u001b[0m\u001b[0;34m\u001b[0m\u001b[0m\n\u001b[0m\u001b[1;32m      4\u001b[0m \u001b[0;34m\u001b[0m\u001b[0m\n\u001b[1;32m      5\u001b[0m \u001b[0mprint\u001b[0m\u001b[0;34m(\u001b[0m\u001b[0;34m'Not in context manager'\u001b[0m\u001b[0;34m)\u001b[0m\u001b[0;34m\u001b[0m\u001b[0;34m\u001b[0m\u001b[0m\n",
      "\u001b[0;31mException\u001b[0m: Error"
     ]
    }
   ],
   "source": [
    "with Resource() as rs:\n",
    "    print(f'Inside the context resource = {rs}')\n",
    "    raise Exception('Error')\n",
    "\n",
    "print('Not in context manager')"
   ]
  },
  {
   "cell_type": "code",
   "execution_count": 76,
   "id": "practical-alliance",
   "metadata": {},
   "outputs": [],
   "source": [
    "class DBError(Exception):  # custom error to handle db errors \n",
    "    pass\n",
    "\n",
    "\n",
    "class DBProvider:\n",
    "    def connect(self):\n",
    "        print('Connect to database')\n",
    "    \n",
    "    def fetch(self):\n",
    "        print('Try to fetch data')\n",
    "        raise DBError('Error during fetching data')\n",
    "    \n",
    "    def close(self):\n",
    "        print('Close connection')\n",
    "    \n",
    "    def __enter__(self):\n",
    "        print('Enter to the context')\n",
    "        self.connect()\n",
    "        return self\n",
    "    \n",
    "    def __exit__(self, exception, value, trace):\n",
    "        print(f'Resource.__exit__{(exception, value, trace)}')\n",
    "        self.close()"
   ]
  },
  {
   "cell_type": "code",
   "execution_count": 77,
   "id": "outdoor-composite",
   "metadata": {},
   "outputs": [
    {
     "name": "stdout",
     "output_type": "stream",
     "text": [
      "Enter to the context\n",
      "Connect to database\n",
      "Try to fetch data\n",
      "Resource.__exit__(<class '__main__.DBError'>, DBError('Error during fetching data'), <traceback object at 0x111a3fe80>)\n",
      "Close connection\n"
     ]
    },
    {
     "ename": "DBError",
     "evalue": "Error during fetching data",
     "output_type": "error",
     "traceback": [
      "\u001b[0;31m---------------------------------------------------------------------------\u001b[0m",
      "\u001b[0;31mDBError\u001b[0m                                   Traceback (most recent call last)",
      "\u001b[0;32m/var/folders/_f/7thd2d217yx30_xyzk01bc4r0000gp/T/ipykernel_26920/2506763207.py\u001b[0m in \u001b[0;36m<module>\u001b[0;34m\u001b[0m\n\u001b[1;32m      1\u001b[0m \u001b[0;32mwith\u001b[0m \u001b[0mDBProvider\u001b[0m\u001b[0;34m(\u001b[0m\u001b[0;34m)\u001b[0m \u001b[0;32mas\u001b[0m \u001b[0mdb\u001b[0m\u001b[0;34m:\u001b[0m\u001b[0;34m\u001b[0m\u001b[0;34m\u001b[0m\u001b[0m\n\u001b[0;32m----> 2\u001b[0;31m     \u001b[0mdata\u001b[0m \u001b[0;34m=\u001b[0m \u001b[0mdb\u001b[0m\u001b[0;34m.\u001b[0m\u001b[0mfetch\u001b[0m\u001b[0;34m(\u001b[0m\u001b[0;34m)\u001b[0m\u001b[0;34m\u001b[0m\u001b[0;34m\u001b[0m\u001b[0m\n\u001b[0m",
      "\u001b[0;32m/var/folders/_f/7thd2d217yx30_xyzk01bc4r0000gp/T/ipykernel_26920/2935701269.py\u001b[0m in \u001b[0;36mfetch\u001b[0;34m(self)\u001b[0m\n\u001b[1;32m      9\u001b[0m     \u001b[0;32mdef\u001b[0m \u001b[0mfetch\u001b[0m\u001b[0;34m(\u001b[0m\u001b[0mself\u001b[0m\u001b[0;34m)\u001b[0m\u001b[0;34m:\u001b[0m\u001b[0;34m\u001b[0m\u001b[0;34m\u001b[0m\u001b[0m\n\u001b[1;32m     10\u001b[0m         \u001b[0mprint\u001b[0m\u001b[0;34m(\u001b[0m\u001b[0;34m'Try to fetch data'\u001b[0m\u001b[0;34m)\u001b[0m\u001b[0;34m\u001b[0m\u001b[0;34m\u001b[0m\u001b[0m\n\u001b[0;32m---> 11\u001b[0;31m         \u001b[0;32mraise\u001b[0m \u001b[0mDBError\u001b[0m\u001b[0;34m(\u001b[0m\u001b[0;34m'Error during fetching data'\u001b[0m\u001b[0;34m)\u001b[0m\u001b[0;34m\u001b[0m\u001b[0;34m\u001b[0m\u001b[0m\n\u001b[0m\u001b[1;32m     12\u001b[0m \u001b[0;34m\u001b[0m\u001b[0m\n\u001b[1;32m     13\u001b[0m     \u001b[0;32mdef\u001b[0m \u001b[0mclose\u001b[0m\u001b[0;34m(\u001b[0m\u001b[0mself\u001b[0m\u001b[0;34m)\u001b[0m\u001b[0;34m:\u001b[0m\u001b[0;34m\u001b[0m\u001b[0;34m\u001b[0m\u001b[0m\n",
      "\u001b[0;31mDBError\u001b[0m: Error during fetching data"
     ]
    }
   ],
   "source": [
    "with DBProvider() as db:\n",
    "    data = db.fetch()"
   ]
  },
  {
   "cell_type": "markdown",
   "id": "arctic-requirement",
   "metadata": {},
   "source": [
    "#### Context manager as a function"
   ]
  },
  {
   "cell_type": "code",
   "execution_count": 78,
   "id": "otherwise-render",
   "metadata": {},
   "outputs": [],
   "source": [
    "from contextlib import contextmanager\n",
    "\n",
    "\n",
    "@contextmanager\n",
    "def resource():\n",
    "    print('before context (aka `enter`)')\n",
    "    yield 'Some data'\n",
    "    print('after context goes `exit`')\n",
    "    print('still inside `exit`')"
   ]
  },
  {
   "cell_type": "code",
   "execution_count": 79,
   "id": "catholic-banks",
   "metadata": {},
   "outputs": [
    {
     "name": "stdout",
     "output_type": "stream",
     "text": [
      "before context (aka `enter`)\n",
      "inside context resource = Some data\n",
      "after context goes `exit`\n",
      "still inside `exit`\n"
     ]
    }
   ],
   "source": [
    "with resource() as rs:\n",
    "    print(f'inside context resource = {rs}')"
   ]
  },
  {
   "cell_type": "code",
   "execution_count": 80,
   "id": "quiet-works",
   "metadata": {},
   "outputs": [],
   "source": [
    "# ignore an exception\n",
    "import os\n",
    "\n",
    "try:\n",
    "    os.remove('somefile.tmp')\n",
    "except FileNotFoundError:\n",
    "    pass"
   ]
  },
  {
   "cell_type": "code",
   "execution_count": 82,
   "id": "catholic-retrieval",
   "metadata": {},
   "outputs": [
    {
     "name": "stdout",
     "output_type": "stream",
     "text": [
      "I'm here\n"
     ]
    }
   ],
   "source": [
    "# via context manager\n",
    "from contextlib import contextmanager\n",
    "\n",
    "\n",
    "@contextmanager\n",
    "def ignore_error(error):\n",
    "    try:\n",
    "        yield\n",
    "    except error:\n",
    "        pass\n",
    "\n",
    "with ignore_error(ZeroDivisionError):\n",
    "    print('I\\'m here')\n",
    "    a = 1/0\n",
    "    print('I\\'m not here')"
   ]
  },
  {
   "cell_type": "code",
   "execution_count": 83,
   "id": "aware-yahoo",
   "metadata": {},
   "outputs": [],
   "source": [
    "# ready to use\n",
    "\n",
    "import os\n",
    "from contextlib import suppress\n",
    "\n",
    "with suppress(FileNotFoundError):\n",
    "    os.remove('somefile.tmp')"
   ]
  },
  {
   "cell_type": "code",
   "execution_count": 84,
   "id": "eight-failing",
   "metadata": {},
   "outputs": [],
   "source": [
    "# Redirect stdout\n",
    "from contextlib import redirect_stdout\n",
    "\n",
    "with open('help.txt', 'w') as f:\n",
    "    with redirect_stdout(f):\n",
    "        help(pow)"
   ]
  },
  {
   "cell_type": "code",
   "execution_count": null,
   "id": "ee107a6e",
   "metadata": {},
   "outputs": [],
   "source": []
  }
 ],
 "metadata": {
  "kernelspec": {
   "display_name": "Python 3 (ipykernel)",
   "language": "python",
   "name": "python3"
  },
  "language_info": {
   "codemirror_mode": {
    "name": "ipython",
    "version": 3
   },
   "file_extension": ".py",
   "mimetype": "text/x-python",
   "name": "python",
   "nbconvert_exporter": "python",
   "pygments_lexer": "ipython3",
   "version": "3.9.7"
  }
 },
 "nbformat": 4,
 "nbformat_minor": 5
}
